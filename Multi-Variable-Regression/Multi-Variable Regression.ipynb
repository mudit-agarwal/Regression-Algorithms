{
 "cells": [
  {
   "cell_type": "markdown",
   "metadata": {},
   "source": [
    "#### Multi-Variable Regression"
   ]
  },
  {
   "cell_type": "markdown",
   "metadata": {},
   "source": [
    "In linear regression we are only able to get a line y=mx+c, so everything is linear.\n",
    "\n",
    "But what if your data points are in the shape of a parabola, then also if I apply linear regression, it will try to print a line which goes through it, rather than print a line of a parabola shape because it can only print straight lines.\n",
    "\n",
    "In MV-Regression I can get upto x^2 or x^3 to represnt in 2-D, which will help me get a better line"
   ]
  },
  {
   "cell_type": "markdown",
   "metadata": {},
   "source": [
    "##### One Disadavantage"
   ]
  },
  {
   "cell_type": "markdown",
   "metadata": {},
   "source": [
    "Is that Multi variable Regression might cause \"Overfitting\"\n",
    "\n",
    "That in trying to get a loopy kind of line which can pass through more of our data points than a straight line, we are trying to copy the training data points and now if I give a test data point which is completely different from the shape, this might give a horrible result"
   ]
  },
  {
   "cell_type": "markdown",
   "metadata": {},
   "source": [
    "#### Code"
   ]
  },
  {
   "cell_type": "markdown",
   "metadata": {},
   "source": [
    "To do MVR, we need to add more features in the columns to get better results. The aim is to now find y = m1x + m2x^2 + c"
   ]
  },
  {
   "cell_type": "code",
   "execution_count": 6,
   "metadata": {},
   "outputs": [],
   "source": [
    "from sklearn import datasets\n",
    "import pandas as pd\n",
    "\n",
    "boston = datasets.load_boston()\n",
    "X = boston.data\n",
    "Y = boston.target"
   ]
  },
  {
   "cell_type": "code",
   "execution_count": 10,
   "metadata": {},
   "outputs": [
    {
     "name": "stdout",
     "output_type": "stream",
     "text": [
      "(506, 14)\n"
     ]
    }
   ],
   "source": [
    "df = pd.DataFrame(X)\n",
    "df.columns = boston.feature_names\n",
    "\n",
    "# Now adding an extra feature Age*age - Multiplying the age column with itself\n",
    "df[\"age_age\"] = df.AGE**2\n",
    "X2 = df.values\n",
    "print(X2.shape)"
   ]
  },
  {
   "cell_type": "code",
   "execution_count": 12,
   "metadata": {},
   "outputs": [],
   "source": [
    "from sklearn import model_selection\n",
    "\n",
    "# We have given random_state = 0, because everytime we run this it picks different points for test and train data\n",
    "# Hence to ensure that we get same points to compare linear and MV Regression we use this\n",
    "X_train,X_test,Y_train,Y_test = model_selection.train_test_split(X,Y,random_state = 0)\n",
    "X2_train,X2_test,Y2_train,Y2_test = model_selection.train_test_split(X2,Y,random_state =0)"
   ]
  },
  {
   "cell_type": "code",
   "execution_count": 13,
   "metadata": {},
   "outputs": [],
   "source": [
    "from sklearn.linear_model import LinearRegression\n",
    "alg1 = LinearRegression()\n",
    "alg2 = LinearRegression()"
   ]
  },
  {
   "cell_type": "code",
   "execution_count": null,
   "metadata": {},
   "outputs": [],
   "source": [
    "alg1.fit(X_train,Y_train)\n",
    "alg2.fit(X2_train,Y2_train)"
   ]
  },
  {
   "cell_type": "code",
   "execution_count": null,
   "metadata": {},
   "outputs": [],
   "source": [
    "Y_pred = alg1.predict(X_test)\n",
    "\n",
    "# Comparing both scores\n",
    "score_test = alg1.score(X_test,Y_test)\n",
    "score_training = alg1.score(X_train,Y_train)\n",
    "\n",
    "score_test2 = alg2.score(X2_test,Y2_test)\n",
    "score_training2 = alg2.score(X2_train,Y2_train)"
   ]
  },
  {
   "cell_type": "code",
   "execution_count": 14,
   "metadata": {},
   "outputs": [],
   "source": [
    "# o/p - Will give slightly higher value in MVR"
   ]
  },
  {
   "cell_type": "markdown",
   "metadata": {},
   "source": [
    "Note : If we keep on adding more feature it might or might not increase the accuracy, but we should make sure that both the test score and training score rise. If only test score rises, then it's not good as it's trying to copy the data points\n",
    "\n",
    "How to add more features - like we did age*age, we can do eachcolumn multiplied by eachcolumn and add coulmns"
   ]
  }
 ],
 "metadata": {
  "kernelspec": {
   "display_name": "Python 3",
   "language": "python",
   "name": "python3"
  },
  "language_info": {
   "codemirror_mode": {
    "name": "ipython",
    "version": 3
   },
   "file_extension": ".py",
   "mimetype": "text/x-python",
   "name": "python",
   "nbconvert_exporter": "python",
   "pygments_lexer": "ipython3",
   "version": "3.6.4"
  }
 },
 "nbformat": 4,
 "nbformat_minor": 2
}
