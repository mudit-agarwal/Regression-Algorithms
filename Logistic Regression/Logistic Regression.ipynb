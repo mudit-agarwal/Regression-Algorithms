{
 "cells": [
  {
   "cell_type": "markdown",
   "metadata": {},
   "source": [
    "### Logistic Regression"
   ]
  },
  {
   "cell_type": "markdown",
   "metadata": {},
   "source": [
    "It is used to solve classification problems, I.E those problems which have a binary(or a fixed number) of O/P."
   ]
  },
  {
   "cell_type": "markdown",
   "metadata": {},
   "source": [
    "#### Why Linear Regression Fails in Classifiation Problems"
   ]
  },
  {
   "cell_type": "markdown",
   "metadata": {},
   "source": [
    "Till now we have solved for a range of values. Like house prices(y) had a range of answers. In this we used Linear Regression and it worked well.\n",
    "\n",
    "But if we use Linear Regression for classification problems, it will give me a range of O/P. But even that is not a problem. Let's say I want my output to be binary i.e, 0 and 1. And when I give the input it gives me a range of output values from (-5 to 20).\n",
    "So I can create a cutoff, that anything above 0.5, I will predict as 1 and anything below 0.5 I will oredict as 0\n",
    "\n",
    "But this does not yield a good result as the outliers spoil the model for us"
   ]
  },
  {
   "cell_type": "markdown",
   "metadata": {},
   "source": [
    "#### 2) Logistic Regression - Math"
   ]
  },
  {
   "cell_type": "markdown",
   "metadata": {},
   "source": [
    "The math behind Logistic Regression is the \"Sigmoid Function\" == s(z)"
   ]
  },
  {
   "cell_type": "markdown",
   "metadata": {},
   "source": [
    "s(z) = [1/(1+(e^-z))]\n",
    "If z=inf, then s(z) = 1\n",
    "if z=-inf, then s(z) = 0\n",
    "if z=0, then s(z) = 0.5\n",
    "\n",
    "Since it is a exponenetial function, the value is always near 0 and 1. This helps us get a good O/P"
   ]
  },
  {
   "cell_type": "markdown",
   "metadata": {},
   "source": [
    "So we use a function h(x) = s(transpose(m).x) = 1/(1+(e^-mx))\n",
    "If h(x)>0.5, e^-mx >0\n",
    "\n",
    "Attaching PNG as Logistic_Regression_Math.PNG"
   ]
  },
  {
   "cell_type": "markdown",
   "metadata": {},
   "source": [
    "#### Code"
   ]
  },
  {
   "cell_type": "code",
   "execution_count": 3,
   "metadata": {},
   "outputs": [],
   "source": [
    "from sklearn import datasets\n",
    "from sklearn.linear_model import LogisticRegression"
   ]
  },
  {
   "cell_type": "code",
   "execution_count": 4,
   "metadata": {},
   "outputs": [],
   "source": [
    "cancer_ds = datasets.load_breast_cancer()"
   ]
  },
  {
   "cell_type": "code",
   "execution_count": null,
   "metadata": {},
   "outputs": [],
   "source": [
    "clf = LogisticRegression()\n",
    "clf.fit(cancer_ds.data,cancer_ds.target)"
   ]
  },
  {
   "cell_type": "code",
   "execution_count": 5,
   "metadata": {},
   "outputs": [],
   "source": [
    "# we have to do everything like in Linear Regression. Splitting test data and all that"
   ]
  },
  {
   "cell_type": "code",
   "execution_count": null,
   "metadata": {},
   "outputs": [],
   "source": [
    "clf.score(cancer_ds.data,cancer_ds.target)"
   ]
  },
  {
   "cell_type": "code",
   "execution_count": null,
   "metadata": {},
   "outputs": [],
   "source": [
    "clf.predict(cancer_ds.data) - cancer_ds.target"
   ]
  },
  {
   "cell_type": "code",
   "execution_count": null,
   "metadata": {},
   "outputs": [],
   "source": [
    "clf.predict_proba(cancer_ds.data)"
   ]
  },
  {
   "cell_type": "markdown",
   "metadata": {},
   "source": [
    "#### 2) Confusion Matrix"
   ]
  },
  {
   "cell_type": "markdown",
   "metadata": {},
   "source": [
    "We genarally use this for Accuracy. We can use simple score function, but it has a huge drawback.\n",
    "\n",
    "Imagine there are 95 0's and 5 1's, and we predict 0 for all. This will give us a 95% accuracy. Which is a excellent accuracy but we know that our prediction is extremely wrong\n",
    "\n",
    "That is why we use Confusion Matrix"
   ]
  },
  {
   "cell_type": "markdown",
   "metadata": {},
   "source": [
    "All the data is in the form of 3 Images"
   ]
  },
  {
   "cell_type": "markdown",
   "metadata": {},
   "source": [
    "#### Image 1\n",
    "This represnts the Confusion Matrix. Initially there were 50 0's and 50 1's. In zeros we predicted 40 of them correctly and 10 incorrectly. Similarly for 1's, we predicted 45 correctly and 5 incorrectly.\n",
    "\n",
    "0,0 - contains those vaule which were predicted 0 and was true 0(ie, was correct prediction) -- 40\n",
    "0,1 - contains those vaule which were predicted 1 and was true 0\n",
    "1,0 - contains those vaule which were predicted 0 and was true 1\n",
    "1,1 - contains those vaule which were predicted 1 and was true 1\n",
    "\n",
    "#### Image 2\n",
    "1 is known as Positive\n",
    "0 is known as Negetive\n",
    "\n",
    "True Positives - True 1's which we predicted - 45\n",
    "True Negetives - 40\n",
    "Similarly False Positives and False Negetives\n",
    "\n",
    "#### Image 3 \n",
    "Represents the code for Confusion Matrix, also the matrix is like [[31,0,0][0,22,2],[0,5,12]]. This means for Class 1 we predicted all correct -- Look at the first row of the matrix. We predicted all 31 1's. None of the one's was predicted as a 2 or 3.\n",
    "Simliarly for 2nd row we predicted all 22 2's, except two 2's which got wrongly predicted as 3's"
   ]
  },
  {
   "cell_type": "markdown",
   "metadata": {},
   "source": [
    "### How to derive Insights from Confusion Matrix - Precision and Recall"
   ]
  },
  {
   "cell_type": "markdown",
   "metadata": {},
   "source": [
    "Precision - % of accuracy within what you have predicted.\n",
    "\n",
    "Recall - % of accuracy with what you have predicted the original Data\n",
    "\n",
    "Recall >> Precision"
   ]
  },
  {
   "cell_type": "code",
   "execution_count": null,
   "metadata": {},
   "outputs": [],
   "source": [
    "from sklearn.metrics import classification_report\n",
    "print(classification_report(y_test,y_test_pred))"
   ]
  }
 ],
 "metadata": {
  "kernelspec": {
   "display_name": "Python 3",
   "language": "python",
   "name": "python3"
  },
  "language_info": {
   "codemirror_mode": {
    "name": "ipython",
    "version": 3
   },
   "file_extension": ".py",
   "mimetype": "text/x-python",
   "name": "python",
   "nbconvert_exporter": "python",
   "pygments_lexer": "ipython3",
   "version": "3.6.4"
  }
 },
 "nbformat": 4,
 "nbformat_minor": 2
}
