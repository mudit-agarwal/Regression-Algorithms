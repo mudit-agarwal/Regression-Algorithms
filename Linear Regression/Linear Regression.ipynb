{
 "cells": [
  {
   "cell_type": "markdown",
   "metadata": {},
   "source": [
    "#### Linear Regression Concept"
   ]
  },
  {
   "cell_type": "markdown",
   "metadata": {},
   "source": [
    "When we give training data,the model tries to find a mathamatical co-relation between the I/P and O/P\n",
    "\n",
    "So it forms a equation. Ki agar 'x' pata hai toh 'y' bhi pata hai, and it tries to create a function or an equation of a line.\n",
    "\n",
    "It tries to represnt it in a form a function y=mx+c. It basically tries to identify the values of 'm' and 'c'. And then whatever vaule x' we give it it will find y' as mx'+c"
   ]
  },
  {
   "cell_type": "code",
   "execution_count": 6,
   "metadata": {},
   "outputs": [
    {
     "data": {
      "text/plain": [
       "(100, 1)"
      ]
     },
     "execution_count": 6,
     "metadata": {},
     "output_type": "execute_result"
    }
   ],
   "source": [
    "import numpy as np\n",
    "\n",
    "data = np.loadtxt(\"data.csv\",delimiter=\",\")\n",
    "#print(data)\n",
    "\n",
    "x = data[:,0].reshape(-1,1)\n",
    "y = data[:,1]\n",
    "\n",
    "x.shape"
   ]
  },
  {
   "cell_type": "code",
   "execution_count": 7,
   "metadata": {},
   "outputs": [],
   "source": [
    "from sklearn import model_selection\n",
    "X_train,X_test,Y_train,Y_test = model_selection.train_test_split(x,y)"
   ]
  },
  {
   "cell_type": "code",
   "execution_count": null,
   "metadata": {},
   "outputs": [],
   "source": [
    "from sklearn.linear_model import LinearRegression\n",
    "\n",
    "alg1 = LinearRegression()\n",
    "alg1.fit(X_train,Y_train)\n",
    "\n",
    "# Prints the Slope('m')\n",
    "print(alg1.coef_)\n",
    "\n",
    "# Prints the intercept('c')\n",
    "print(alg1.intercept_)"
   ]
  },
  {
   "cell_type": "code",
   "execution_count": null,
   "metadata": {},
   "outputs": [],
   "source": [
    "import matplotlib.pyplot as plt\n",
    "\n",
    "m = alg1.coef_[0]\n",
    "c = alg1.intercept_\n",
    "\n",
    "x_line = np.arrange(0,10,0.1)\n",
    "y_line = m * x_line + c\n",
    "plt.plot(x_line,y_line,\"r\")\n",
    "train_1d = X_train.reshape(75)\n",
    "plt.scatter(X_train,Y_train)\n",
    "plt.show()"
   ]
  },
  {
   "cell_type": "markdown",
   "metadata": {},
   "source": [
    "#### THE OUTPUT IS ATTACHED AS PNG"
   ]
  },
  {
   "cell_type": "markdown",
   "metadata": {},
   "source": [
    "#### IMP\n",
    "\n",
    "In the previous Notebook, we trained and predicted the data. And the graph was of predicted O/P v/s actual O/P\n",
    "\n",
    "In this one, we trained the data, but did no prediction. We are just seeing how line is being formed wrt test data."
   ]
  },
  {
   "cell_type": "markdown",
   "metadata": {},
   "source": [
    "### 2) Coefficient of determination"
   ]
  },
  {
   "cell_type": "markdown",
   "metadata": {},
   "source": [
    "Instead of plotting a graph to see how our data is performing, a more scientific method is to use the Coefficient of Determination.\n",
    "\n",
    "This let's us know the deviancy of the predicted data to the actual data'"
   ]
  },
  {
   "cell_type": "markdown",
   "metadata": {},
   "source": [
    "#### Formula"
   ]
  },
  {
   "cell_type": "markdown",
   "metadata": {},
   "source": [
    "1) CoD = 1 - (u/v)\n",
    "\n",
    "2) 0 < CoD < 1 -- Coefficient of determination will lie between 0 to 1\n",
    "\n",
    "3) Greater the score, more accurate the model is\n",
    "\n",
    "4) u = summation(Y.test - Y.Pred)^2 \n",
    "\n",
    "   v = summation(Y.test - Y.test.mean)^2 \n",
    "    \n",
    "5) Basically 'u' means difference of testing and prediction result. If Y.test == Y.pred, then numerator becomes zero and CoD = 1 \n",
    " I.E. Best result\n",
    " \n",
    "6) Similarly 'v' is difference of Y.test and mean of (Y.test) -- This basically we have found mean of actual values and are        saying ki if we wanted to predict O/P without ML, then the safest bet would be to say the mean of the values. \n",
    "\n",
    "7) If CoD = 0, then your algo is exactly equal to mean, and your algo sucks.\n",
    "   If it's negetive, that means we are doing even worse than mean"
   ]
  },
  {
   "cell_type": "code",
   "execution_count": 11,
   "metadata": {},
   "outputs": [
    {
     "data": {
      "text/plain": [
       "'\\nscore_test = alg1.score(X_test,Y_test)\\nscore_training = alg1.score(X_train,Y_train)\\n\\nscore_test,score_training\\n'"
      ]
     },
     "execution_count": 11,
     "metadata": {},
     "output_type": "execute_result"
    }
   ],
   "source": [
    "'''\n",
    "score_test = alg1.score(X_test,Y_test)\n",
    "score_training = alg1.score(X_train,Y_train)\n",
    "\n",
    "score_test,score_training\n",
    "'''\n",
    "\n",
    "#O/P - 0.6456456,0.6146343"
   ]
  }
 ],
 "metadata": {
  "kernelspec": {
   "display_name": "Python 3",
   "language": "python",
   "name": "python3"
  },
  "language_info": {
   "codemirror_mode": {
    "name": "ipython",
    "version": 3
   },
   "file_extension": ".py",
   "mimetype": "text/x-python",
   "name": "python",
   "nbconvert_exporter": "python",
   "pygments_lexer": "ipython3",
   "version": "3.6.4"
  }
 },
 "nbformat": 4,
 "nbformat_minor": 2
}
